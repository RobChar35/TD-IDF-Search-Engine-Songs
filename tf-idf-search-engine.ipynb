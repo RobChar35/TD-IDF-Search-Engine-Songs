{
 "cells": [
  {
   "cell_type": "markdown",
   "id": "f8671df8-503e-4af8-bf77-a60dc43ba434",
   "metadata": {},
   "source": [
    "### Packages Needed\n",
    "- Numpy\n",
    "- Pandas\n",
    "- Scikit-Learn\n"
   ]
  },
  {
   "cell_type": "code",
   "execution_count": 10,
   "id": "9523cafc-2e7c-4521-b48a-d9516b7ba2d0",
   "metadata": {},
   "outputs": [],
   "source": [
    "import numpy as np\n",
    "import pandas as pd\n",
    "\n",
    "from sklearn.feature_extraction.text import TfidfVectorizer\n",
    "from sklearn.feature_extraction.text import CountVectorizer\n",
    "from sklearn.metrics.pairwise import cosine_similarity\n"
   ]
  },
  {
   "cell_type": "markdown",
   "id": "8778febe-89a9-4250-8678-4e364de28f82",
   "metadata": {},
   "source": [
    "### Reading the dataset"
   ]
  },
  {
   "cell_type": "code",
   "execution_count": 11,
   "id": "e9b4c330-03e8-4a3b-acc2-c5b5c9e1c63a",
   "metadata": {},
   "outputs": [
    {
     "data": {
      "text/html": [
       "<div>\n",
       "<style scoped>\n",
       "    .dataframe tbody tr th:only-of-type {\n",
       "        vertical-align: middle;\n",
       "    }\n",
       "\n",
       "    .dataframe tbody tr th {\n",
       "        vertical-align: top;\n",
       "    }\n",
       "\n",
       "    .dataframe thead th {\n",
       "        text-align: right;\n",
       "    }\n",
       "</style>\n",
       "<table border=\"1\" class=\"dataframe\">\n",
       "  <thead>\n",
       "    <tr style=\"text-align: right;\">\n",
       "      <th></th>\n",
       "      <th>song_name</th>\n",
       "      <th>artist</th>\n",
       "      <th>song_lyrics</th>\n",
       "      <th>song_composition</th>\n",
       "      <th>song_lang</th>\n",
       "    </tr>\n",
       "  </thead>\n",
       "  <tbody>\n",
       "    <tr>\n",
       "      <th>0</th>\n",
       "      <td>Soneto de Fidelidade</td>\n",
       "      <td>Vinicius de Moraes</td>\n",
       "      <td>De tudo, ao meu amor serei atento antes E co...</td>\n",
       "      <td>Vinícius de Moraes.</td>\n",
       "      <td>pt</td>\n",
       "    </tr>\n",
       "    <tr>\n",
       "      <th>1</th>\n",
       "      <td>A Casa</td>\n",
       "      <td>Vinicius de Moraes</td>\n",
       "      <td>Era uma casa Muito engraçada Não tinha teto ...</td>\n",
       "      <td>Sergio Bardotti / Vinícius de Moraes.</td>\n",
       "      <td>pt</td>\n",
       "    </tr>\n",
       "    <tr>\n",
       "      <th>2</th>\n",
       "      <td>Onde Anda Você</td>\n",
       "      <td>Vinicius de Moraes</td>\n",
       "      <td>E por falar em saudade Onde anda você Onde a...</td>\n",
       "      <td>Hermano Silva / Vinícius de Moraes.</td>\n",
       "      <td>pt</td>\n",
       "    </tr>\n",
       "    <tr>\n",
       "      <th>3</th>\n",
       "      <td>Poema Enjoadinho</td>\n",
       "      <td>Vinicius de Moraes</td>\n",
       "      <td>Filhos... Filhos? Melhor não tê-los! Mas se ...</td>\n",
       "      <td>Vinícius de Moraes.</td>\n",
       "      <td>pt</td>\n",
       "    </tr>\n",
       "    <tr>\n",
       "      <th>4</th>\n",
       "      <td>Samba da Bênção</td>\n",
       "      <td>Vinicius de Moraes</td>\n",
       "      <td>É melhor ser alegre que ser triste Alegria é...</td>\n",
       "      <td>Baden Powell / Vinícius de Moraes.</td>\n",
       "      <td>pt</td>\n",
       "    </tr>\n",
       "  </tbody>\n",
       "</table>\n",
       "</div>"
      ],
      "text/plain": [
       "                 song_name                 artist  \\\n",
       "0   Soneto de Fidelidade      Vinicius de Moraes    \n",
       "1                 A Casa      Vinicius de Moraes    \n",
       "2         Onde Anda Você      Vinicius de Moraes    \n",
       "3       Poema Enjoadinho      Vinicius de Moraes    \n",
       "4        Samba da Bênção      Vinicius de Moraes    \n",
       "\n",
       "                                         song_lyrics  \\\n",
       "0    De tudo, ao meu amor serei atento antes E co...   \n",
       "1    Era uma casa Muito engraçada Não tinha teto ...   \n",
       "2    E por falar em saudade Onde anda você Onde a...   \n",
       "3    Filhos... Filhos? Melhor não tê-los! Mas se ...   \n",
       "4    É melhor ser alegre que ser triste Alegria é...   \n",
       "\n",
       "                          song_composition song_lang  \n",
       "0                     Vinícius de Moraes.         pt  \n",
       "1   Sergio Bardotti / Vinícius de Moraes.         pt  \n",
       "2     Hermano Silva / Vinícius de Moraes.         pt  \n",
       "3                     Vinícius de Moraes.         pt  \n",
       "4      Baden Powell / Vinícius de Moraes.         pt  "
      ]
     },
     "execution_count": 11,
     "metadata": {},
     "output_type": "execute_result"
    }
   ],
   "source": [
    "df = pd.read_csv('bossa_nova_songs_dataset.csv')\n",
    "df.head()"
   ]
  },
  {
   "cell_type": "markdown",
   "id": "b0ef52e1-6828-4904-99a0-b21aaa4f23a1",
   "metadata": {},
   "source": [
    "### TF-IDF Search Engine\n",
    "Get tf-idf matrix using fit_transform function."
   ]
  },
  {
   "cell_type": "code",
   "execution_count": 12,
   "id": "eebbff9d-5700-42ae-b637-9a72b049ac3b",
   "metadata": {},
   "outputs": [],
   "source": [
    "vectorizer = TfidfVectorizer()"
   ]
  },
  {
   "cell_type": "markdown",
   "id": "e3a65c30-567e-40f6-b0e7-4b57b9fd5dbf",
   "metadata": {},
   "source": [
    "Store tf-idf representations of all docs in the X variable."
   ]
  },
  {
   "cell_type": "code",
   "execution_count": 13,
   "id": "4471c19e-217c-4dc9-9d88-8a643f773374",
   "metadata": {},
   "outputs": [
    {
     "name": "stdout",
     "output_type": "stream",
     "text": [
      "CPU times: user 29.4 ms, sys: 860 µs, total: 30.3 ms\n",
      "Wall time: 29.7 ms\n"
     ]
    }
   ],
   "source": [
    "%%time\n",
    "X = vectorizer.fit_transform(df['song_name'])"
   ]
  },
  {
   "cell_type": "markdown",
   "id": "adf07f50-70af-4d5c-a16c-70edec77b5a3",
   "metadata": {},
   "source": [
    "Print the number of songs, number of unique words."
   ]
  },
  {
   "cell_type": "code",
   "execution_count": 14,
   "id": "c5241851-9bc4-42e2-a322-149a5bfaa4e2",
   "metadata": {},
   "outputs": [
    {
     "name": "stdout",
     "output_type": "stream",
     "text": [
      "(6106, 5159)\n"
     ]
    }
   ],
   "source": [
    "print(X.shape) # (Number of songs, Number of unique words)"
   ]
  },
  {
   "cell_type": "markdown",
   "id": "8209422f-d9af-46e2-bfad-bbaf0ef7043a",
   "metadata": {},
   "source": [
    "### Query processing\n",
    "Declare and initialize an input value."
   ]
  },
  {
   "cell_type": "code",
   "execution_count": 15,
   "id": "bae6c956-1c30-4f4a-975d-92abed65e6ee",
   "metadata": {},
   "outputs": [],
   "source": [
    "query = \"Take it easy with me, please\""
   ]
  },
  {
   "cell_type": "code",
   "execution_count": 8,
   "id": "7a0847ef-127c-409d-9142-dab464b5b3b5",
   "metadata": {},
   "outputs": [
    {
     "name": "stdout",
     "output_type": "stream",
     "text": [
      "CPU times: user 5.02 ms, sys: 874 µs, total: 5.9 ms\n",
      "Wall time: 4.96 ms\n"
     ]
    }
   ],
   "source": [
    "%%time\n",
    "query_vec = vectorizer.transform([query]) # Ip -- (n_docs,x), Op -- (n_docs,n_Feats)\n",
    "results = cosine_similarity(X,query_vec).reshape((-1,)) # Op -- (n_docs,1) -- Cosine Sim with each doc"
   ]
  },
  {
   "cell_type": "markdown",
   "id": "82b31b32-8a2d-46e7-8f93-3bd5aa8b05fa",
   "metadata": {},
   "source": [
    "Print the top 10 results."
   ]
  },
  {
   "cell_type": "code",
   "execution_count": 16,
   "id": "9ba81ec9-0170-4bc2-8f18-881c726368b4",
   "metadata": {},
   "outputs": [
    {
     "name": "stdout",
     "output_type": "stream",
     "text": [
      " Take It Easy, My Brother Charlie   --   Astrud Gilberto \n",
      " Be With Me   --   Celso Fonseca \n",
      " Take Me Over   --   De/Vision \n",
      " Take Me To Heaven   --   De/Vision \n",
      " Take Me To The Time   --   De/Vision \n",
      " It Only Could Happen With You   --   Carlos Lyra \n",
      " Please Baby Don't   --   Sérgio Mendes \n",
      " Aruanda (Take Me To Arauanda)   --   Astrud Gilberto \n",
      " You'd Be So Easy To Love   --   Bob Tostes \n",
      " Take This Love   --   Sérgio Mendes \n"
     ]
    }
   ],
   "source": [
    "for i in results.argsort()[-10:][::-1]:\n",
    "    print(df.iloc[i,0],\"--\",df.iloc[i,1])"
   ]
  }
 ],
 "metadata": {
  "kernelspec": {
   "display_name": "Python 3 (ipykernel)",
   "language": "python",
   "name": "python3"
  },
  "language_info": {
   "codemirror_mode": {
    "name": "ipython",
    "version": 3
   },
   "file_extension": ".py",
   "mimetype": "text/x-python",
   "name": "python",
   "nbconvert_exporter": "python",
   "pygments_lexer": "ipython3",
   "version": "3.10.12"
  }
 },
 "nbformat": 4,
 "nbformat_minor": 5
}
